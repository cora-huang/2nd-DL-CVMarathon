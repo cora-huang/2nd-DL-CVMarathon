{
  "nbformat": 4,
  "nbformat_minor": 0,
  "metadata": {
    "kernelspec": {
      "display_name": "Python 3",
      "language": "python",
      "name": "python3"
    },
    "language_info": {
      "codemirror_mode": {
        "name": "ipython",
        "version": 3
      },
      "file_extension": ".py",
      "mimetype": "text/x-python",
      "name": "python",
      "nbconvert_exporter": "python",
      "pygments_lexer": "ipython3",
      "version": "3.6.8"
    },
    "colab": {
      "name": "Day002_change_color_space_HW.ipynb",
      "provenance": []
    }
  },
  "cells": [
    {
      "cell_type": "markdown",
      "metadata": {
        "id": "pUvqwVscqD6D",
        "colab_type": "text"
      },
      "source": [
        "# 作業\n",
        "\n",
        "使用 [Lena](http://optipng.sourceforge.net/pngtech/img/lena.png)\n",
        "\n",
        "- 改變圖片的 color space (`HLS`, `LAB`) 並呈現"
      ]
    },
    {
      "cell_type": "code",
      "metadata": {
        "id": "R_lTv1YTqKp9",
        "colab_type": "code",
        "colab": {}
      },
      "source": [
        "import cv2\n",
        "\n",
        "img_path = '/Users/cora/Downloads/lena.png'\n",
        "\n",
        "img = cv2.imread(img_path, cv2.IMREAD_COLOR)\n",
        "\n",
        "#改變圖片為HLS\n",
        "img_hls = cv2.cvtColor(img, cv2.COLOR_BGR2HLS)\n",
        "img_lab = cv2.cvtColor(img, cv2.COLOR_BGR2LAB)\n",
        "\n",
        "\n",
        "\n",
        "while True:\n",
        "    cv2.imshow('bgr', img)\n",
        "    cv2.imshow('hls', img_hls)\n",
        "    cv2.imshow('lab', img_lab)\n",
        "\n",
        "\n",
        "    # 直到按下 ESC 鍵才會自動關閉視窗結束程式\n",
        "    k = cv2.waitKey(0)\n",
        "    if k == 27:\n",
        "        cv2.destroyAllWindows()\n",
        "        break"
      ],
      "execution_count": 0,
      "outputs": []
    }
  ]
}