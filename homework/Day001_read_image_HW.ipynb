{
  "nbformat": 4,
  "nbformat_minor": 0,
  "metadata": {
    "colab": {
      "name": "Untitled1.ipynb",
      "provenance": [],
      "collapsed_sections": []
    },
    "kernelspec": {
      "name": "python3",
      "display_name": "Python 3"
    }
  },
  "cells": [
    {
      "cell_type": "code",
      "metadata": {
        "id": "t5WGF0C1Pyzb",
        "colab_type": "code",
        "colab": {}
      },
      "source": [
        "import cv2\n",
        "\n",
        "#路徑\n",
        "img_path = '/Users/cora/Downloads/lena.png'\n",
        "\n",
        "#載入圖片\n",
        "img = cv2.imread(img_path, cv2.IMREAD_COLOR)\n",
        "\n",
        "#RGB三個維度拆開\n",
        "\n",
        "b = img[:,:,0]\n",
        "g = img[:,:,1]\n",
        "r = img[:,:,2]\n",
        "\n",
        "#不斷顯示圖片，使用迴圈\n",
        "while True:\n",
        "    cv2.imshow('rgb', img)\n",
        "    cv2.imshow('red', r)\n",
        "    cv2.imshow('green', g)\n",
        "    cv2.imshow('blue', b)\n",
        "    \n",
        "    #直到按下 ESC 鍵才會自動關閉視窗結束程式\n",
        "    k = cv2.waitKey(0)\n",
        "    if k == ord('q'):\n",
        "        cv2.destroyAllWindows()\n",
        "        break"
      ],
      "execution_count": 0,
      "outputs": []
    }
  ]
}